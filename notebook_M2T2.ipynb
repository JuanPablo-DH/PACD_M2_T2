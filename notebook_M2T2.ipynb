{
  "cells": [
    {
      "cell_type": "markdown",
      "metadata": {},
      "source": [
        "# **1. Consulta del dataset**\n",
        "- *Selecciona un dataset público de tu interés (por ejemplo: datos abiertos gubernamentales, estadísticas deportivas, información climática, etc.).*\n",
        "- *Descárgalo o consúmelo desde su API, según corresponda.*"
      ]
    },
    {
      "cell_type": "code",
      "execution_count": null,
      "metadata": {
        "colab": {
          "base_uri": "https://localhost:8080/",
          "height": 342
        },
        "collapsed": true,
        "id": "af1a-En9Y5a6",
        "outputId": "a1b16015-d20c-45ba-d975-1db3ce462d62"
      },
      "outputs": [],
      "source": [
        "# Importante! - tener descargado el dataset.csv en la carpeta del proyecto.\n",
        "\n",
        "import pandas as pd\n",
        "\n",
        "try:\n",
        "    df_teenagers = -1\n",
        "    # Lee el archivo \".csv\" y lo guarda en un dataframe.\n",
        "    df_teenagers = pd.read_csv(\"teen_phone_addiction_dataset.csv\", sep=',') \n",
        "except Exception as e:\n",
        "    print(f\"Ocurrió un error: {e}\")\n",
        "finally:\n",
        "    if isinstance(df_teenagers, pd.DataFrame):\n",
        "        print(\"Se creó el dataFrame exitosamente.\")"
      ]
    },
    {
      "cell_type": "code",
      "execution_count": null,
      "metadata": {},
      "outputs": [],
      "source": [
        "df_teenagers.head()"
      ]
    },
    {
      "cell_type": "code",
      "execution_count": null,
      "metadata": {},
      "outputs": [],
      "source": [
        "from dotenv import load_dotenv\n",
        "import os\n",
        "\n",
        "# Lee el archivo \".env\".\n",
        "load_dotenv(override=True)\n",
        "\n",
        "# db_user = os.getenv(\"DB_USER\")\n",
        "# db_pass = os.getenv(\"DB_PASS\")\n",
        "db_name = os.getenv(\"DB_NAME\") # Posee el nombre de la BD que se generará.\n",
        "db_table_teenagers = os.getenv(\"DB_TABLE_TEENAGERS\") # Posee el nombre de la tabla que se generará en la BD SQL.\n",
        "\n",
        "print(f\"db_name = {db_name}\")\n",
        "print(f\"db_table_teenagers = {db_table_teenagers}\")"
      ]
    },
    {
      "cell_type": "markdown",
      "metadata": {},
      "source": [
        "# **2. Almacenamiento en base de datos**\n",
        "- *Elige el motor de base de datos que prefieras (relacional como PostgreSQL/MySQL o NoSQL como MongoDB).*\n",
        "- *Diseña las estructuras necesarias (tablas o colecciones) y carga los datos.*"
      ]
    },
    {
      "cell_type": "code",
      "execution_count": 60,
      "metadata": {},
      "outputs": [],
      "source": [
        "import sqlite3\n",
        "\n",
        "try:\n",
        "    # Establece la conexión con la BD SQLite (crea el archivo 'db_teenagers.sqlite' si no existe)\n",
        "    conn = sqlite3.connect(f\"{db_name}.sqlite\")\n",
        "\n",
        "    # Ejecuta la consulta para crear (solo si NO existe) la tabla en la BD.\n",
        "    conn.execute(f\"\"\"\n",
        "    CREATE TABLE IF NOT EXISTS {db_table_teenagers} (\n",
        "        ID INTEGER PRIMARY KEY,\n",
        "        Name TEXT,\n",
        "        Age INTEGER,\n",
        "        Gender TEXT,\n",
        "        Location TEXT,\n",
        "        School_Grade TEXT,\n",
        "        Daily_Usage_Hours REAL,\n",
        "        Sleep_Hours REAL,\n",
        "        Academic_Performance INTEGER,\n",
        "        Social_Interactions INTEGER,\n",
        "        Exercise_Hours REAL,\n",
        "        Anxiety_Level INTEGER,\n",
        "        Depression_Level INTEGER,\n",
        "        Self_Esteem INTEGER,\n",
        "        Parental_Control INTEGER,\n",
        "        Screen_Time_Before_Bed REAL,\n",
        "        Phone_Checks_Per_Day INTEGER,\n",
        "        Apps_Used_Daily INTEGER,\n",
        "        Time_on_Social_Media REAL,\n",
        "        Time_on_Gaming REAL,\n",
        "        Time_on_Education REAL,\n",
        "        Phone_Usage_Purpose TEXT,\n",
        "        Family_Communication INTEGER,\n",
        "        Weekend_Usage_Hours REAL,\n",
        "        Addiction_Level REAL\n",
        "    )\n",
        "    \"\"\")\n",
        "\n",
        "    # Intenta crear la tabla en la BD, e intenta insertar los datos del dataframe en la tabla de la BD.\n",
        "    df_teenagers.to_sql(db_table_teenagers, conn, if_exists=\"append\", index=False)\n",
        "\n",
        "    # Se guardan los cambios generados en la BD.\n",
        "    conn.commit()\n",
        "except Exception as e:\n",
        "    # Si ocurre algo inesperado se asume que la tabla ya fue cargada.\n",
        "    print(f\"La tabla '{db_table_teenagers}' ya existe en la BD y fue cargada, u ocurrió otro error: {e}\")\n",
        "finally:\n",
        "    # Cierra la conexión con la BD.\n",
        "    conn.close()"
      ]
    },
    {
      "cell_type": "markdown",
      "metadata": {},
      "source": [
        "# **3. Construcción del dashboard**\n",
        "- *Utiliza una notebook (Jupyter, Colab o similar) para crear un dashboard que permite explorar la información almacenada en la base de datos.*\n",
        "- *Puedes emplear herramientas como Plotly, Panel, Voila, Streamlit o widgets de Jupyter para la visualización.*"
      ]
    },
    {
      "cell_type": "code",
      "execution_count": null,
      "metadata": {},
      "outputs": [],
      "source": [
        "import seaborn as sns\n",
        "import matplotlib.pyplot as plt\n",
        "\n",
        "plt.figure(figsize=(8,5))\n",
        "sns.boxplot(x=\"Gender\", y=\"Sleep_Hours\", data=df_teenagers)\n",
        "plt.title(\"Distribución de horas de sueño por género\")\n",
        "plt.xlabel(\"Género\")\n",
        "plt.ylabel(\"Horas de sueño\")\n",
        "plt.show()"
      ]
    },
    {
      "cell_type": "code",
      "execution_count": null,
      "metadata": {},
      "outputs": [],
      "source": [
        "import matplotlib.pyplot as plt\n",
        "\n",
        "# Promedio de horas de sueño por grado escolar\n",
        "promedios = df_teenagers.groupby(\"School_Grade\")[\"Sleep_Hours\"].mean()\n",
        "\n",
        "# Ordenar de menor a mayor promedio\n",
        "promedios = promedios.sort_values(ascending=True)\n",
        "\n",
        "plt.figure(figsize=(8,5))\n",
        "plt.bar(promedios.index, promedios.values, color=\"lightgreen\", edgecolor=\"black\")\n",
        "plt.title(\"Promedio de horas de sueño por grado escolar\")\n",
        "plt.xlabel(\"Grado escolar\")\n",
        "plt.ylabel(\"Horas de sueño\")\n",
        "plt.show()"
      ]
    },
    {
      "cell_type": "code",
      "execution_count": null,
      "metadata": {},
      "outputs": [],
      "source": [
        "import matplotlib.pyplot as plt\n",
        "\n",
        "# Rangos de adicción\n",
        "bins = [0, 2, 4, 6, 8, 10]  # intervalos: 0-2, 2-4, 4-6, 6-8, 8-10\n",
        "\n",
        "plt.figure(figsize=(8,5))\n",
        "plt.hist(df_teenagers[\"Addiction_Level\"], bins=bins, color=\"skyblue\", edgecolor=\"black\")\n",
        "plt.title(\"Distribución del nivel de adicción (uso del teléfono)\")\n",
        "plt.xlabel(\"Nivel de adicción (uso del teléfono)\")\n",
        "plt.ylabel(\"Cantidad de adolescentes\")\n",
        "plt.xticks(bins)  # Para mostrar los límites de cada rango\n",
        "plt.show()"
      ]
    }
  ],
  "metadata": {
    "colab": {
      "provenance": []
    },
    "kernelspec": {
      "display_name": "venv_M2T2",
      "language": "python",
      "name": "python3"
    },
    "language_info": {
      "codemirror_mode": {
        "name": "ipython",
        "version": 3
      },
      "file_extension": ".py",
      "mimetype": "text/x-python",
      "name": "python",
      "nbconvert_exporter": "python",
      "pygments_lexer": "ipython3",
      "version": "3.13.7"
    }
  },
  "nbformat": 4,
  "nbformat_minor": 0
}
